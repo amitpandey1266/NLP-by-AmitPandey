{
 "cells": [
  {
   "cell_type": "markdown",
   "metadata": {
    "papermill": {
     "duration": 0.009877,
     "end_time": "2020-10-05T12:26:42.718506",
     "exception": false,
     "start_time": "2020-10-05T12:26:42.708629",
     "status": "completed"
    },
    "tags": []
   },
   "source": [
    "# I have collected the viewers review from diffrenet websites for movie \"SHOLAY\" & tried to introduce Sentiment Analysis in my created text file"
   ]
  },
  {
   "cell_type": "code",
   "execution_count": 1,
   "metadata": {
    "_cell_guid": "b1076dfc-b9ad-4769-8c92-a6c4dae69d19",
    "_uuid": "8f2839f25d086af736a60e9eeb907d3b93b6e0e5",
    "execution": {
     "iopub.execute_input": "2020-10-05T12:26:42.744039Z",
     "iopub.status.busy": "2020-10-05T12:26:42.743198Z",
     "iopub.status.idle": "2020-10-05T12:26:42.749237Z",
     "shell.execute_reply": "2020-10-05T12:26:42.749830Z"
    },
    "papermill": {
     "duration": 0.022554,
     "end_time": "2020-10-05T12:26:42.750016",
     "exception": false,
     "start_time": "2020-10-05T12:26:42.727462",
     "status": "completed"
    },
    "tags": []
   },
   "outputs": [
    {
     "name": "stdout",
     "output_type": "stream",
     "text": [
      "/kaggle/input/sholay-movie-review/Sholay Movie_Sample Review_Data.txt\n"
     ]
    }
   ],
   "source": [
    "# This Python 3 environment comes with many helpful analytics libraries installed\n",
    "# It is defined by the kaggle/python Docker image: https://github.com/kaggle/docker-python\n",
    "# For example, here's several helpful packages to load\n",
    "\n",
    "import numpy as np # linear algebra\n",
    "import pandas as pd # data processing, CSV file I/O (e.g. pd.read_csv)\n",
    "\n",
    "# Input data files are available in the read-only \"../input/\" directory\n",
    "# For example, running this (by clicking run or pressing Shift+Enter) will list all files under the input directory\n",
    "\n",
    "import os\n",
    "for dirname, _, filenames in os.walk('/kaggle/input'):\n",
    "    for filename in filenames:\n",
    "        print(os.path.join(dirname, filename))\n",
    "\n",
    "# You can write up to 5GB to the current directory (/kaggle/working/) that gets preserved as output when you create a version using \"Save & Run All\" \n",
    "# You can also write temporary files to /kaggle/temp/, but they won't be saved outside of the current session"
   ]
  },
  {
   "cell_type": "code",
   "execution_count": 2,
   "metadata": {
    "execution": {
     "iopub.execute_input": "2020-10-05T12:26:42.775373Z",
     "iopub.status.busy": "2020-10-05T12:26:42.774630Z",
     "iopub.status.idle": "2020-10-05T12:26:42.780594Z",
     "shell.execute_reply": "2020-10-05T12:26:42.779794Z"
    },
    "papermill": {
     "duration": 0.020633,
     "end_time": "2020-10-05T12:26:42.780722",
     "exception": false,
     "start_time": "2020-10-05T12:26:42.760089",
     "status": "completed"
    },
    "tags": []
   },
   "outputs": [],
   "source": [
    "#importing data set of movie review\n",
    "with open (\"/kaggle/input/sholay-movie-review/Sholay Movie_Sample Review_Data.txt\") as fh:\n",
    "    Reviews  = [line.strip() for line in fh if line.strip()]"
   ]
  },
  {
   "cell_type": "code",
   "execution_count": 3,
   "metadata": {
    "execution": {
     "iopub.execute_input": "2020-10-05T12:26:42.805855Z",
     "iopub.status.busy": "2020-10-05T12:26:42.804895Z",
     "iopub.status.idle": "2020-10-05T12:26:42.808407Z",
     "shell.execute_reply": "2020-10-05T12:26:42.808995Z"
    },
    "papermill": {
     "duration": 0.018729,
     "end_time": "2020-10-05T12:26:42.809145",
     "exception": false,
     "start_time": "2020-10-05T12:26:42.790416",
     "status": "completed"
    },
    "tags": []
   },
   "outputs": [
    {
     "name": "stdout",
     "output_type": "stream",
     "text": [
      "Reviews:\n",
      " [\"Among Bollywood's Best.\", \"What to say of this 'almost perfect Bollywood movie' and arguably among the greatest from the industry, it had absolutely everything in it, a blend of all the facets of Hindi cinema, yet modelled on the Western movies running in Hollywood at that time and before. No need to elaborate on any of the elements of this film, as any Hindi movie lover would know; but to mention just one, I would talk of the action sequences in the running train which were such perfectly shot that they seemed way ahead of its time. It had a slow opening in the theatres but gathered steam in the second week and o boy, it never looked back from there. I still remember it running as late as the 90s in some theatre or the other in the city and had a release every year whenever they found a slot for this classic. If the number of times a movie been watched by any viewer is the question, it would perhaps make the Guinness Books by now.\", \"15th August 1975. The day Ramesh Sippy's magnum opus Sholay released at the Minerva cinema, Mumbai.\", \"Undoubtedly, this film doesn't need a review. We all know Sholay and we all love Sholay. It is a benchmark in Indian cinema and each one of us has his own story to tell about the classic. From seeing it more than 50 times to purchasing ticket in black for an obscene amount or memorising every dialogue, personal stories around the legendary film abound.\", 'I first experienced the Sholay phenomenon in the year 1985 during Diwali time when I visited my paternal grandparents place at Mahim. The society had hired a huge screen and projector to film it in its premise. The euphoria at the time of screening with loud ceetes and people mouthing dialogues along with the characters and dancing during the songs is a moment I will never forget ever.', 'I have seen the movie multiple times later on VHS (during video cassette era) and on DVD. It is a regular on satellite channels also where I still catch it whenever possible.', 'One of the best films of 1970s. Dharam and Amit were no doubt impressive but Sanjeev impressed everyone with his exceptional acting talent.This Sholay movie was loved to see by my whole Family members.', 'A master class with master performers in Dharamendra, Amitabh, Hema and Jaya. Of course two of the greatest performers in Sanjeev Kumar and Amjad Khan. Equally supported by super taleted Asrani , Jagadeep, Keshto Mukherjee and AK Hangal. Paisa wasool movie.', \"What to write about this movie wherein an actor who didn't utter a single word have become celebrity overnight. In my opinion no one could have performed the role of Gabbar Singh better than Amjad Khan.what to say everyone has left a mark rather telling performance in the movie. Dialogues were just superb & are being used in daily life also.\", 'THE GREATEST MOVIE EVER MADE IN INDIA.']\n"
     ]
    }
   ],
   "source": [
    "print(\"Reviews:\\n\",Reviews[:10])"
   ]
  },
  {
   "cell_type": "markdown",
   "metadata": {
    "papermill": {
     "duration": 0.009899,
     "end_time": "2020-10-05T12:26:42.829446",
     "exception": false,
     "start_time": "2020-10-05T12:26:42.819547",
     "status": "completed"
    },
    "tags": []
   },
   "source": [
    "# Identifying Sentiments from Reviews"
   ]
  },
  {
   "cell_type": "code",
   "execution_count": 4,
   "metadata": {
    "execution": {
     "iopub.execute_input": "2020-10-05T12:26:42.855631Z",
     "iopub.status.busy": "2020-10-05T12:26:42.854893Z",
     "iopub.status.idle": "2020-10-05T12:26:44.695524Z",
     "shell.execute_reply": "2020-10-05T12:26:44.694891Z"
    },
    "papermill": {
     "duration": 1.855913,
     "end_time": "2020-10-05T12:26:44.695654",
     "exception": false,
     "start_time": "2020-10-05T12:26:42.839741",
     "status": "completed"
    },
    "tags": []
   },
   "outputs": [
    {
     "name": "stdout",
     "output_type": "stream",
     "text": [
      "Reviews                                                                         :Polarity                 :Subjectivity             \n"
     ]
    }
   ],
   "source": [
    "from textblob import TextBlob\n",
    "print('{:80}:{:25}:{:25}'.format(\"Reviews\",\"Polarity\",\"Subjectivity\"))"
   ]
  },
  {
   "cell_type": "markdown",
   "metadata": {
    "papermill": {
     "duration": 0.010366,
     "end_time": "2020-10-05T12:26:44.716779",
     "exception": false,
     "start_time": "2020-10-05T12:26:44.706413",
     "status": "completed"
    },
    "tags": []
   },
   "source": [
    "# Identifying Sentiments by Reviews"
   ]
  },
  {
   "cell_type": "code",
   "execution_count": 5,
   "metadata": {
    "execution": {
     "iopub.execute_input": "2020-10-05T12:26:44.751457Z",
     "iopub.status.busy": "2020-10-05T12:26:44.750432Z",
     "iopub.status.idle": "2020-10-05T12:26:44.879206Z",
     "shell.execute_reply": "2020-10-05T12:26:44.878123Z"
    },
    "papermill": {
     "duration": 0.15189,
     "end_time": "2020-10-05T12:26:44.879413",
     "exception": false,
     "start_time": "2020-10-05T12:26:44.727523",
     "status": "completed"
    },
    "tags": []
   },
   "outputs": [
    {
     "name": "stdout",
     "output_type": "stream",
     "text": [
      "Among Bollywood's Best.                                                         : 1.00: 0.30\n",
      "What to say of this 'almost perfect Bollywood movie' and arg                    : 0.23: 0.50\n",
      "15th August 1975. The day Ramesh Sippy's magnum opus Sholay                     : 0.00: 0.00\n",
      "Undoubtedly, this film doesn't need a review. We all know Sh                    : 0.37: 0.57\n",
      "I first experienced the Sholay phenomenon in the year 1985 d                    : 0.39: 0.73\n",
      "I have seen the movie multiple times later on VHS (during vi                    : 0.00: 0.27\n",
      "One of the best films of 1970s. Dharam and Amit were no doub                    : 0.65: 0.64\n",
      "A master class with master performers in Dharamendra, Amitab                    : 0.44: 0.64\n",
      "What to write about this movie wherein an actor who didn't u                    : 0.24: 0.45\n",
      "THE GREATEST MOVIE EVER MADE IN INDIA.                                          : 1.00: 1.00\n",
      "Best movie ever. Even Hollywood action movies lagging behind                    : 0.36: 0.47\n",
      "Excellent Movie. Full of Action,songs, commedy good story an                    : 0.53: 0.66\n",
      "Super hit movie. In this movie songs are amazing and whole c                    : 0.44: 0.59\n",
      "😍😍 😍 😍 ❤️❤️ Supppper movie 🎦                                                    : 0.00: 0.00\n",
      "Evergreen Film, that's what Sholay is. After 45 yrs also, th                    : 0.22: 0.40\n",
      "THE GREATEST INDIAN FILM OF ALL TIME. STARRING GREAT AMITABH                    : 0.41: 0.63\n",
      "Fabulous movie never see in whole life. Great performances b                    : 0.33: 0.53\n",
      "All time favourite movie. The barren Ramdevaberta was  made                     : 0.02: 0.70\n",
      "1-It was best movie in 70s                                                      : 1.00: 0.30\n",
      "I had watch in colour print on my TV.                                           : 0.00: 0.00\n",
      "Basanti in kuttoe ke aage mat nachna.                                           : 0.00: 0.00\n",
      "😗😀😀😃😁😆😅                                                                         : 0.00: 0.00\n",
      "Basanti- talkative girl , beautiful and sexy .                                  : 0.68: 1.00\n",
      "And minded also.                                                                : 0.00: 0.00\n",
      "No one forget the dhanno.                                                       : 0.00: 0.00\n",
      "Jay- known for his sacrifice and friendship.                                    : 0.00: 0.00\n",
      "Ya brave too.                                                                   : 0.80: 1.00\n",
      "Veeru- stylish and powerful and ofcourse                                        : 0.40: 1.00\n",
      "Real hero .                                                                     : 0.20: 0.30\n",
      "Best thing is it's dialogue delivery.                                           : 1.00: 0.30\n",
      "Kitne aadmi they??                                                              : 0.00: 0.00\n",
      "Doo🤣🤣🤣🤣🤣                                                                        : 0.00: 0.00\n",
      "Please watch!!!!!!                                                              : 0.00: 0.00\n",
      "I don't think I have to give you a special introduction of t                    : 0.58: 0.79\n",
      "Everyone must have heard of this movie and  watched at least                    : -0.30: 0.40\n",
      "The actors ( legends ) have made it more amazing.... It is o                    : 0.70: 0.80\n",
      "Nice movie and one my favourite movie. Actors acting were to                    : 0.44: 0.54\n",
      "The best movie of all time. All the characters are just fab.                    : 0.78: 0.73\n",
      "This is one of the milestone film of Indian Film Industry. I                    : 0.38: 0.60\n",
      "Sholay has a very beautiful plot. I like the way hema malini                    : 0.58: 0.67\n",
      "In the movie , when hema malini romances with dharmendra and                    : 0.00: 0.00\n",
      "I have seen the movie twice , in school days and after doing                    : 0.00: 0.00\n",
      "Best film of Bollywood..Amitabh bacchan and every cast is ex                    : 1.00: 0.65\n",
      "Gabbar singh really create history of Villan..Music, Story ,                    : 0.60: 0.60\n",
      "This is the film which can seen multiple time..and you feel                     : 0.06: 0.37\n",
      "Sholay its not a movie.  Its reality in every sense.  Feels                     : 0.07: 0.40\n",
      "SHOLAY (1975) is super se bhi upper  superhit movie in the h                    : 0.13: 0.55\n",
      "BEING AN AMERICAN BROADWAY ACTOR AND PLAYWRIGHT MYSELF                          : 0.00: 0.00\n",
      "I SAY                                                                           : 0.00: 0.00\n",
      "SHOLAY IS A MULTI-STARRER FILM OF THE MID SEVENTIES.THIS FIL                    : 0.33: 0.45\n",
      "WITH ALL THE INGREDIENTS NEEDED FOR A SUPER HIT FILM                            : 0.33: 0.67\n",
      "IT WAS NOMINATED IN ALL CATEGORIES INCLUDING BEST FILM BEST                     : 0.75: 0.39\n",
      "THE STORY IS INSPIRED BY THE JAPANESE FILM 'THE SEVEN SAMURA                    : 0.00: 0.00\n",
      "MANY HOLLYWOOD MOVIES LIKE 'THE MAGNIFICENT SEVEN' '5 MAN AR                    : 0.75: 0.75\n",
      "TODAY THIS ICONIC FILM CELEBRATES 40 YEARS OF SHOLAY                            : 0.50: 0.50\n",
      "I STRONGLY RECOMMEND THIS FILM                                                  : 0.43: 0.73\n",
      "YEH ICONIC FILM NAHI DEKAR TOH KYA DEKA                                         : 0.50: 0.50\n",
      "ENJOY THIS ICONIC FILM AT HOME WITH YOUR FULL FAMILY AND FRI                    : 0.42: 0.52\n"
     ]
    }
   ],
   "source": [
    "for review in Reviews:\n",
    "    sentiment=TextBlob(review)\n",
    "    print('{:80}: {:01.2f}: {:01.2f}'.format(review[:60],sentiment.polarity,sentiment.subjectivity))\n",
    "    "
   ]
  },
  {
   "cell_type": "markdown",
   "metadata": {
    "papermill": {
     "duration": 0.012913,
     "end_time": "2020-10-05T12:26:44.906132",
     "exception": false,
     "start_time": "2020-10-05T12:26:44.893219",
     "status": "completed"
    },
    "tags": []
   },
   "source": [
    "# Sentiments Summary"
   ]
  },
  {
   "cell_type": "code",
   "execution_count": 6,
   "metadata": {
    "execution": {
     "iopub.execute_input": "2020-10-05T12:26:44.964143Z",
     "iopub.status.busy": "2020-10-05T12:26:44.948602Z",
     "iopub.status.idle": "2020-10-05T12:26:45.086921Z",
     "shell.execute_reply": "2020-10-05T12:26:45.086280Z"
    },
    "papermill": {
     "duration": 0.169227,
     "end_time": "2020-10-05T12:26:45.087041",
     "exception": false,
     "start_time": "2020-10-05T12:26:44.917814",
     "status": "completed"
    },
    "tags": []
   },
   "outputs": [
    {
     "name": "stdout",
     "output_type": "stream",
     "text": [
      "Final summarized counts : [26, 20, 12]\n",
      "\n",
      " Pie Representation \n",
      "-------------------\n"
     ]
    },
    {
     "data": {
      "image/png": "[encoded data removed]",
      "text/plain": [
       "<Figure size 432x288 with 1 Axes>"
      ]
     },
     "metadata": {},
     "output_type": "display_data"
    }
   ],
   "source": [
    "#Categorize polarity into positive, neutral or negative\n",
    "labels = [\"Negative\", \"Neutral\", \"Positive\"]\n",
    "#Initialize count array\n",
    "values =[0,0,0]\n",
    "\n",
    "#Categorize each review\n",
    "for review in Reviews:\n",
    "    sentiment = TextBlob(review)\n",
    "    \n",
    "    #Custom formula to convert polarity \n",
    "    # 0 = (Negative) 1 = (Neutral) 2=(Positive)\n",
    "    polarity = round(( sentiment.polarity + 1 ) * 3 ) % 3\n",
    "    \n",
    "    #add the summary array\n",
    "    values[polarity] = values[polarity] + 1\n",
    "    \n",
    "print(\"Final summarized counts :\", values)\n",
    "\n",
    "import matplotlib.pyplot as plt\n",
    "#Set colors by label\n",
    "colors=[\"Green\",\"Blue\",\"Red\"]\n",
    "\n",
    "print(\"\\n Pie Representation \\n-------------------\")\n",
    "#Plot a pie chart\n",
    "plt.pie(values, labels=labels, colors=colors, \\\n",
    "        autopct='%1.1f%%', shadow=True, startangle=140)\n",
    "plt.axis('equal')\n",
    "plt.show()"
   ]
  },
  {
   "cell_type": "code",
   "execution_count": null,
   "metadata": {
    "papermill": {
     "duration": 0.012754,
     "end_time": "2020-10-05T12:26:45.113090",
     "exception": false,
     "start_time": "2020-10-05T12:26:45.100336",
     "status": "completed"
    },
    "tags": []
   },
   "outputs": [],
   "source": []
  }
 ],
 "metadata": {
  "kernelspec": {
   "display_name": "Python 3",
   "language": "python",
   "name": "python3"
  },
  "language_info": {
   "codemirror_mode": {
    "name": "ipython",
    "version": 3
   },
   "file_extension": ".py",
   "mimetype": "text/x-python",
   "name": "python",
   "nbconvert_exporter": "python",
   "pygments_lexer": "ipython3",
   "version": "3.7.6"
  },
  "papermill": {
   "duration": 7.4981,
   "end_time": "2020-10-05T12:26:45.233591",
   "environment_variables": {},
   "exception": null,
   "input_path": "__notebook__.ipynb",
   "output_path": "__notebook__.ipynb",
   "parameters": {},
   "start_time": "2020-10-05T12:26:37.735491",
   "version": "2.1.0"
  }
 },
 "nbformat": 4,
 "nbformat_minor": 4
}
